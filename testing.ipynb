{
 "cells": [
  {
   "cell_type": "code",
   "execution_count": null,
   "metadata": {},
   "outputs": [],
   "source": [
    "TX_AMOUNT, TX_TIME_SECONDS,  TX_TIME_DAYS,   "
   ]
  },
  {
   "cell_type": "code",
   "execution_count": 1,
   "metadata": {},
   "outputs": [
    {
     "name": "stdout",
     "output_type": "stream",
     "text": [
      "Collecting mysql-connector-python\n",
      "  Obtaining dependency information for mysql-connector-python from https://files.pythonhosted.org/packages/d0/76/2461d50bdc154a05119aad89c01235a1772d0ba7dd27de336268adc068b2/mysql_connector_python-8.2.0-py2.py3-none-any.whl.metadata\n",
      "  Downloading mysql_connector_python-8.2.0-py2.py3-none-any.whl.metadata (2.1 kB)\n",
      "Collecting protobuf<=4.21.12,>=4.21.1 (from mysql-connector-python)\n",
      "  Using cached protobuf-4.21.12-cp37-abi3-macosx_10_9_universal2.whl (486 kB)\n",
      "Downloading mysql_connector_python-8.2.0-py2.py3-none-any.whl (593 kB)\n",
      "\u001b[2K   \u001b[90m━━━━━━━━━━━━━━━━━━━━━━━━━━━━━━━━━━━━━━━━\u001b[0m \u001b[32m593.4/593.4 kB\u001b[0m \u001b[31m4.2 MB/s\u001b[0m eta \u001b[36m0:00:00\u001b[0ma \u001b[36m0:00:01\u001b[0m\n",
      "\u001b[?25hInstalling collected packages: protobuf, mysql-connector-python\n",
      "Successfully installed mysql-connector-python-8.2.0 protobuf-4.21.12\n",
      "\n",
      "\u001b[1m[\u001b[0m\u001b[34;49mnotice\u001b[0m\u001b[1;39;49m]\u001b[0m\u001b[39;49m A new release of pip is available: \u001b[0m\u001b[31;49m23.2.1\u001b[0m\u001b[39;49m -> \u001b[0m\u001b[32;49m23.3.1\u001b[0m\n",
      "\u001b[1m[\u001b[0m\u001b[34;49mnotice\u001b[0m\u001b[1;39;49m]\u001b[0m\u001b[39;49m To update, run: \u001b[0m\u001b[32;49mpip install --upgrade pip\u001b[0m\n",
      "Note: you may need to restart the kernel to use updated packages.\n"
     ]
    }
   ],
   "source": [
    "%pip install mysql-connector-python\n"
   ]
  },
  {
   "cell_type": "code",
   "execution_count": 1,
   "metadata": {},
   "outputs": [],
   "source": [
    "import mysql.connector\n",
    "\n",
    "# Create a connection to the MySQL database\n",
    "connection = mysql.connector.connect(\n",
    "    host='localhost',\n",
    "    user='root',\n",
    "    password='1234',\n",
    "    database='Txn34'\n",
    ")\n"
   ]
  },
  {
   "cell_type": "code",
   "execution_count": 2,
   "metadata": {},
   "outputs": [],
   "source": [
    "cursor = connection.cursor()\n",
    "query = \"SELECT * FROM transactions\"  # Replace with your specific query\n",
    "\n",
    "cursor.execute(query)\n",
    "data = cursor.fetchall()\n"
   ]
  },
  {
   "cell_type": "code",
   "execution_count": 3,
   "metadata": {},
   "outputs": [],
   "source": [
    "import csv\n",
    "\n",
    "with open(\"cleaned_transactions.csv\", \"w\", newline=\"\") as csv_file:\n",
    "    csv_writer = csv.writer(csv_file)\n",
    "    # Write the header if needed\n",
    "    # csv_writer.writerow(['Column1', 'Column2', ...])\n",
    "\n",
    "    # Write the data\n",
    "    csv_writer.writerows(data)\n"
   ]
  },
  {
   "cell_type": "code",
   "execution_count": 4,
   "metadata": {},
   "outputs": [],
   "source": [
    "connection.close()\n"
   ]
  },
  {
   "cell_type": "code",
   "execution_count": null,
   "metadata": {},
   "outputs": [],
   "source": [
    "import csv\n",
    "\n",
    "# Assuming data is a list of lists, each inner list represents a row of data\n",
    "data = [\n",
    "    ['1', '2023-10-31 12:34:56', '1001', 'T123', '100.00', '12345', '10', '0', 'Scenario1'],\n",
    "    ['2', '2023-10-31 13:45:00', '1002', 'T124', '75.50', '23456', '10', '1', 'Scenario2'],\n",
    "    # ... More data rows ...\n",
    "]\n",
    "\n",
    "# Define the column names\n",
    "column_names = [\n",
    "    'TRANSACTION_ID',\n",
    "    'TX_DATETIME',\n",
    "    'CUSTOMER_ID',\n",
    "    'TERMINAL_ID',\n",
    "    'TX_AMOUNT',\n",
    "    'TX_TIME_SECONDS',\n",
    "    'TX_TIME_DAYS',\n",
    "    'TX_FRAUD',\n",
    "    'TX_FRAUD_SCENARIO'\n",
    "]\n",
    "\n",
    "# Specify the full path to the new location of the CSV file\n",
    "new_file_path = '/path/to/new/location/cleaned_transactions.csv'\n",
    "\n",
    "# Write the data to the new CSV file with column names\n",
    "with open(new_file_path, \"w\", newline=\"\") as csv_file:\n",
    "    writer = csv.DictWriter(csv_file, fieldnames=column_names)\n",
    "    \n",
    "    # Write the header row\n",
    "    writer.writeheader()\n",
    "    \n",
    "    # Write the data rows\n",
    "    for row in data:\n",
    "        # Create a dictionary with column names as keys\n",
    "        row_dict = {column_names[i]: row[i] for i in range(len(column_names))}\n",
    "        writer.writerow(row_dict)\n"
   ]
  },
  {
   "cell_type": "code",
   "execution_count": null,
   "metadata": {},
   "outputs": [],
   "source": []
  },
  {
   "cell_type": "code",
   "execution_count": null,
   "metadata": {},
   "outputs": [],
   "source": []
  },
  {
   "cell_type": "code",
   "execution_count": null,
   "metadata": {},
   "outputs": [],
   "source": []
  }
 ],
 "metadata": {
  "kernelspec": {
   "display_name": "myenv",
   "language": "python",
   "name": "python3"
  },
  "language_info": {
   "codemirror_mode": {
    "name": "ipython",
    "version": 3
   },
   "file_extension": ".py",
   "mimetype": "text/x-python",
   "name": "python",
   "nbconvert_exporter": "python",
   "pygments_lexer": "ipython3",
   "version": "3.11.5"
  }
 },
 "nbformat": 4,
 "nbformat_minor": 2
}
